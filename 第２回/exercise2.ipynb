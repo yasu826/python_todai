{
 "cells": [
  {
   "cell_type": "markdown",
   "metadata": {},
   "source": [
    "# 第2回本課題\n",
    "\n",
    "ATGCの4文字から成る文字列 s が引数として与えられたとき、\n",
    "最も出現回数が多い文字を文字1、\n",
    "2番目に出現回数が多い文字を文字2、\n",
    "3番目に出現回数が多い文字を文字3、\n",
    "最も出現回数が少ない文字を文字4で置き換えて得られる文字列を返す関数 atgc_encode(s) を作成して下さい。\n",
    "例えば、atgc_encode(\"AAGCCCCATGGTAA\") は、\"11322221433411\" を返します。\n",
    "4文字のうち、出現回数が同じものはないと仮定します。"
   ]
  },
  {
   "cell_type": "code",
   "execution_count": 53,
   "metadata": {},
   "outputs": [],
   "source": [
    "def atgc_encode(s):\n",
    "    a=s.count('A')\n",
    "    t=s.count('T')\n",
    "    g=s.count('G')\n",
    "    c=s.count('C')\n",
    "    \n",
    "    ln=[a,t,g,c]\n",
    "    ln.sort()\n",
    "    a1=ln.index(a)\n",
    "    t1=ln.index(t)\n",
    "    g1=ln.index(g)\n",
    "    c1=ln.index(c)\n",
    "    \n",
    "    s1=s.replace('A',str(4-a1))\n",
    "    s2=s1.replace('T',str(4-t1))\n",
    "    s3=s2.replace('G',str(4-g1))\n",
    "    s4=s3.replace('C',str(4-c1))\n",
    "    return s4"
   ]
  },
  {
   "cell_type": "code",
   "execution_count": 54,
   "metadata": {},
   "outputs": [
    {
     "data": {
      "text/plain": [
       "'11322221433411'"
      ]
     },
     "execution_count": 54,
     "metadata": {},
     "output_type": "execute_result"
    }
   ],
   "source": [
    "atgc_encode(\"AAGCCCCATGGTAA\") "
   ]
  },
  {
   "cell_type": "code",
   "execution_count": 55,
   "metadata": {},
   "outputs": [
    {
     "data": {
      "text/plain": [
       "'4332221111'"
      ]
     },
     "execution_count": 55,
     "metadata": {},
     "output_type": "execute_result"
    }
   ],
   "source": [
    "atgc_encode(\"ATTGGGCCCC\") "
   ]
  }
 ],
 "metadata": {
  "kernelspec": {
   "display_name": "Python 3",
   "language": "python",
   "name": "python3"
  },
  "language_info": {
   "codemirror_mode": {
    "name": "ipython",
    "version": 3
   },
   "file_extension": ".py",
   "mimetype": "text/x-python",
   "name": "python",
   "nbconvert_exporter": "python",
   "pygments_lexer": "ipython3",
   "version": "3.6.4"
  }
 },
 "nbformat": 4,
 "nbformat_minor": 2
}
